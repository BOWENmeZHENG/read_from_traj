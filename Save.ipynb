{
 "cells": [
  {
   "cell_type": "code",
   "execution_count": 1,
   "id": "4f41055a",
   "metadata": {},
   "outputs": [
    {
     "name": "stdout",
     "output_type": "stream",
     "text": [
      "0\n",
      "0\n"
     ]
    }
   ],
   "source": [
    "import utils_read as utils\n",
    "folder = 'trj'\n",
    "n_frames = 200\n",
    "Lattice_all, Positions_all, Energy_all, Forces_all, AtomTypes = utils.trj2np(f_lattice=f\"{folder}/MD-600-1.cell\", \n",
    "                 f_positions=f\"{folder}/MD-600-pos-1.xyz\", \n",
    "                 f_energy=f\"{folder}/MD-600-1.ener\", \n",
    "                 f_forces=f\"{folder}/MD-600-nvt.force-frc-1.xyz\", \n",
    "                 n_atoms=165, n_frames=n_frames, n_CO2=1)"
   ]
  },
  {
   "cell_type": "code",
   "execution_count": null,
   "id": "6a50965e",
   "metadata": {},
   "outputs": [],
   "source": [
    "import numpy as np\n",
    "# Lattice_all, Positions_all, Energy_all, Forces_all\n",
    "np.save(\"200000/Lattice_all.npy\", Lattice_all)\n",
    "np.save(\"200000/Positions_all.npy\", Positions_all)\n",
    "np.save(\"200000/Energy_all.npy\", Energy_all)\n",
    "np.save(\"200000/Forces_all.npy\", Forces_all)\n",
    "np.save(\"200000/AtomTypes.npy\", AtomTypes)"
   ]
  },
  {
   "cell_type": "code",
   "execution_count": null,
   "id": "d04f8962",
   "metadata": {},
   "outputs": [],
   "source": []
  }
 ],
 "metadata": {
  "kernelspec": {
   "display_name": "Python 3 (ipykernel)",
   "language": "python",
   "name": "python3"
  },
  "language_info": {
   "codemirror_mode": {
    "name": "ipython",
    "version": 3
   },
   "file_extension": ".py",
   "mimetype": "text/x-python",
   "name": "python",
   "nbconvert_exporter": "python",
   "pygments_lexer": "ipython3",
   "version": "3.9.7"
  }
 },
 "nbformat": 4,
 "nbformat_minor": 5
}
